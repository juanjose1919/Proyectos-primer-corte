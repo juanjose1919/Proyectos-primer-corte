{
  "nbformat": 4,
  "nbformat_minor": 0,
  "metadata": {
    "colab": {
      "provenance": [],
      "collapsed_sections": [],
      "include_colab_link": true
    },
    "kernelspec": {
      "name": "python3",
      "display_name": "Python 3"
    },
    "language_info": {
      "name": "python"
    }
  },
  "cells": [
    {
      "cell_type": "markdown",
      "metadata": {
        "id": "view-in-github",
        "colab_type": "text"
      },
      "source": [
        "<a href=\"https://colab.research.google.com/github/juanjose1919/Proyectos-primer-corte/blob/main/PROYECTO_1.ipynb\" target=\"_parent\"><img src=\"https://colab.research.google.com/assets/colab-badge.svg\" alt=\"Open In Colab\"/></a>"
      ]
    },
    {
      "cell_type": "code",
      "execution_count": 1,
      "metadata": {
        "id": "86OW06OH74-9"
      },
      "outputs": [],
      "source": [
        "class TablaDatos:\n",
        "  def __init__(self, datos: list):#listo\n",
        "    self.datos = datos\n",
        "    self.tamaño_tabla = len(self.datos)-1, len(self.datos[0])\n",
        "    self.nombre_columna = self.datos[0]\n",
        "    \n",
        "    c =[]\n",
        "    d=[]\n",
        "    for i in self.datos[1]:\n",
        "      c.append(type(i))\n",
        "    for h in range(2,self.tamaño_tabla[0]+1): \n",
        "      for j in self.datos[h]:\n",
        "        d.append(type(j))\n",
        "      if c == d:\n",
        "        d.clear()\n",
        "        print(c)\n",
        "      else:\n",
        "        print('ERROR: EL TIPO DE DATO NO ES CORRECTO')\n",
        "    self.tipo = c\n",
        "    a = range(0,self.tamaño_tabla[0]+1)\n",
        "    dic = {}\n",
        "    for i in a:\n",
        "      clave = self.datos[i][0]\n",
        "      dic[clave] = len(self.datos[i])\n",
        "      r = max(dic.values())\n",
        "      m = min(dic.values())\n",
        "    if r == self.tamaño_tabla[1] and m == self.tamaño_tabla[1]:\n",
        "      pass\n",
        "      #print('El tamaño es correcto')\n",
        "    if r > self.tamaño_tabla[1] or m < self.tamaño_tabla[1]:\n",
        "      print('EL TAMAÑO ES INCORRECTO, ARREGLE LA TABLA PARA CONTINUAR')\n",
        "  def __actualizar_tamaño(self):\n",
        "    self.tamaño_tabla = len(self.datos)-1, len(self.datos[0])\n",
        "  \n",
        "  def acceso_columna(self, columna: int): #listo\n",
        "    '''INGRESAR EL NÚMERO DE LA COLUMNA A ACCEDER'''\n",
        "    if type(columna) == int:\n",
        "      if columna == 0:\n",
        "        return 'ERROR: el valor minimo es 1'\n",
        "      if columna <= self.tamaño_tabla[1]:\n",
        "        nombre= []\n",
        "        for fila in self.datos:\n",
        "          nombre.append(fila[columna-1])\n",
        "        return nombre\n",
        "      if columna > self.tamaño_tabla[1] :\n",
        "        return f'ERROR: no hay suficientes columnas, recuerde que el maximo son {self.tamaño_tabla[1]}'\n",
        "    if type(columna) != int:\n",
        "        return 'ERROR: Debe estar en el formato int'\n",
        "      \n",
        "  def acceso_fila(self, numero_fila: int): #listo\n",
        "    '''INGRESAR EL NUMERO DE LA FILA A ACCEDER'''     \n",
        "    if numero_fila == 0:\n",
        "      return 'ERROR: el numero de fila minimo es 1' \n",
        "    if numero_fila <= self.tamaño_tabla[0]:\n",
        "      return self.datos[numero_fila]\n",
        "    if numero_fila < 0:\n",
        "      return 'ERROR: el numero de fila minimo es 1'\n",
        "    if numero_fila > self.tamaño_tabla[0] - 1:\n",
        "      return f'ERROR: el numero de fila maximo es {self.tamaño_tabla[0]}'\n",
        "  \n",
        "  def agregar_columna(self, columna: list): #sousou\n",
        "    '''INGRESE EL NOMBRE DE LA COLUMNA, SEGUIDO DE LOS DATOS'''\n",
        "    if type(columna) != list:\n",
        "      return 'ERROR: Tipo de dato erroneo, solo listas'\n",
        "    if len(columna) != self.tamaño_tabla[0]+1:\n",
        "      return f'ERROR: el largo de la fila debe ser de {self.tamaño_tabla[0]+1}'\n",
        "    if len(columna) == self.tamaño_tabla[0]+1:\n",
        "      for j in range(0, self.tamaño_tabla[1]-1):\n",
        "        if columna[0] == self.datos[0][j]:\n",
        "          return 'ERROR: No se puede agregar una columna ya existente'\n",
        "        if columna[0] != self.datos[0][j]:  \n",
        "          pass\n",
        "      d=[]\n",
        "      for h in range(2, len(columna)):\n",
        "        d.append(type(columna[h]))\n",
        "        if type(columna[1]) == type(columna[h]):\n",
        "          g = True\n",
        "        else:\n",
        "          return 'ERROR: EL TIPO DE DATO NO ES CORRECTO'\n",
        "      if g == True:\n",
        "        a = range(0, self.tamaño_tabla[0]+1)\n",
        "        for i in a:\n",
        "          self.datos[i].append(columna[i])\n",
        "        self.__actualizar_tamaño()\n",
        "\n",
        "  def eliminar_columna(self, num_columna: int): #listo\n",
        "    '''INGRESE EL NUMERO DE LA COLUMNA QUE DESEA ELIMINAR'''\n",
        "    if num_columna ==0:\n",
        "      return 'ERROR: numero de columna mino es de 1'\n",
        "    if type(num_columna) != int:\n",
        "      return 'ERROR: El formato es invalido, debe ingresar un int'\n",
        "    if num_columna > self.tamaño_tabla[1]:\n",
        "      return f'ERROR: numero de la columna no puede ser mayor a {self.tamaño_tabla[1]}'\n",
        "    a = range(0, self.tamaño_tabla[0]+1)\n",
        "    for i in a:\n",
        "      self.datos[i].pop(num_columna-1)\n",
        "    self.__actualizar_tamaño()\n",
        "  \n",
        "  def agregar_fila(self, fila: list): #listo\n",
        "    '''INGRESE UNA LISTA DE VALORES'''\n",
        "    a = []\n",
        "    for i in fila:\n",
        "      a.append(type(i))\n",
        "    print(a)\n",
        "    if self.tipo != a:\n",
        "      print('ERROR: La fila no coincide con el tipo de datos solicitados')\n",
        "    else: \n",
        "      if type(fila) != list:\n",
        "        return 'ERROR: Tipo de dato erroneo, solo listas'\n",
        "      if len(fila) != self.tamaño_tabla[1]:\n",
        "        return f'ERROR: el largo de la fila debe ser de {self.tamaño_tabla[1]}'\n",
        "      self.datos.append(fila)\n",
        "      self.__actualizar_tamaño()\n",
        "\n",
        "  def eliminar_fila(self, num_fila: int): #listo\n",
        "    '''INGRESE EL NÚMERO DE LA FILA QUE DESEA ELIMINAR'''\n",
        "    if type(num_fila) == int:  \n",
        "      if num_fila == 0:\n",
        "        return 'ERROR: El numero de la fila minimo es 1'\n",
        "      if num_fila > self.tamaño_tabla[0]:\n",
        "        return f'ERROR: El numero de la fila no puede ser mayor a {self.tamaño_tabla[1]}'\n",
        "    if type(num_fila) != int:\n",
        "      return 'ERROR: El valor debe ser un int'\n",
        "    self.datos.pop(num_fila)\n",
        "    self.__actualizar_tamaño()\n",
        "\n",
        "  def operar_escalar(self, operador:int, operacion:str): #listo\n",
        "    '''INGRESAR EL NUMERO Y LA OPERACION DESEADA, EJE: 5, '+' '''\n",
        "    contador = range(1, len(self.datos))\n",
        "    a = []\n",
        "    if operacion == '+':\n",
        "      contador = range(1, len(self.datos))\n",
        "      for i in contador:\n",
        "        for j in self.datos[i]:\n",
        "          if type(j) == str:\n",
        "            a.append(j)\n",
        "            pass\n",
        "          if type(j) != str: \n",
        "            a.append(j+ operador)\n",
        "      n=self.tamaño_tabla[1]\n",
        "      a=[a[i:i + n] for i in range(0, len(a), n)]\n",
        "      print(a)\n",
        "    if operacion == '-':\n",
        "      contador = range(1, len(self.datos))\n",
        "      for i in contador:\n",
        "        for j in self.datos[i]:\n",
        "          if type(j) == str:\n",
        "            a.append(j)\n",
        "            pass\n",
        "          if type(j) != str: \n",
        "            a.append(j - operador)\n",
        "      n=self.tamaño_tabla[1]\n",
        "      a=[a[i:i + n] for i in range(0, len(a), n)]\n",
        "      print(a)\n",
        "    if operacion == '*':\n",
        "      contador = range(1, len(self.datos))\n",
        "      for i in contador:\n",
        "        for j in self.datos[i]:\n",
        "          a.append(j * operador)\n",
        "      n=self.tamaño_tabla[1]\n",
        "      a=[a[i:i + n] for i in range(0, len(a), n)]\n",
        "      print(a)\n",
        "    if operacion == '/':\n",
        "      contador = range(1, len(self.datos))\n",
        "      for i in contador:\n",
        "        for j in self.datos[i]:\n",
        "          if type(j) == str:\n",
        "            a.append(j)\n",
        "            pass\n",
        "          if type(j) != str: \n",
        "            if operador == 0: \n",
        "              return 'ERROR'\n",
        "            else:\n",
        "              a.append(j / operador)\n",
        "      n=self.tamaño_tabla[1]\n",
        "      a=[a[i:i + n] for i in range(0, len(a), n)]\n",
        "      print(a)\n",
        "  \n",
        "  \n",
        "  def operar_columnas(self, columna_a : int, columna_b: int, operacion: str): #listo\n",
        "    '''INGRESE DOS COLUMNAS QUE DESEE OPERAR, SEGUIDO DE LA OPERACION. EJE: 3,4,'*' '''\n",
        "    if columna_a == 0 or columna_b == 0:\n",
        "      return 'ERROR: COLUMNA INVALIDA'\n",
        "    if columna_a <= self.tamaño_tabla[1] and columna_b <= self.tamaño_tabla[1]:\n",
        "      if type(self.datos[1][columna_a-1]) != str and type(self.datos[1][columna_b-1]) != str:\n",
        "        if operacion == '+':\n",
        "          f = []\n",
        "          variable = range(1, self.tamaño_tabla[0]+1)\n",
        "          for i in variable:\n",
        "            f.append(self.datos[i][columna_a-1] + self.datos[i][columna_b-1])\n",
        "          print(f'El resultado de la columna {columna_a} {operacion} la columna  {columna_b}, es {f}')\n",
        "        if operacion == '-':\n",
        "          f = []\n",
        "          variable = range(1, self.tamaño_tabla[0]+1)\n",
        "          for i in variable:\n",
        "            f.append(self.datos[i][columna_a-1] - self.datos[i][columna_b-1])\n",
        "          print(f'El resultado de la columna {columna_a} {operacion} la columna  {columna_b}, es {f}')\n",
        "        if operacion == '*':\n",
        "          f = []\n",
        "          variable = range(1, self.tamaño_tabla[0]+1)\n",
        "          for i in variable:\n",
        "            f.append(self.datos[i][columna_a-1] * self.datos[i][columna_b-1])\n",
        "          print(f'El resultado de la columna {columna_a} {operacion} la columna  {columna_b}, es {f}')\n",
        "        if operacion == '/':\n",
        "          f = []\n",
        "          variable = range(1, self.tamaño_tabla[0]+1)\n",
        "          for i in variable:\n",
        "            if self.datos[i][columna_a-1] == 0 or self.datos[i][columna_b-1] == 0:\n",
        "              return 'ERROR: Division entre cero'\n",
        "            else:\n",
        "              f.append(self.datos[i][columna_a-1] / self.datos[i][columna_b-1])\n",
        "          print(f'El resultado de la columna {columna_a} {operacion} la columna  {columna_b}, es {f}')\n",
        "      if type(self.datos[1][columna_a-1]) == str or type(self.datos[1][columna_b-1]) == str:\n",
        "        if type(self.datos[1][columna_a-1]) != str or type(self.datos[1][columna_b-1]) != str:\n",
        "          if type(self.datos[1][columna_a-1]) == str or type(self.datos[1][columna_b-1]) == str:\n",
        "            if operacion != '*':\n",
        "              return f'ERROR: No puedes operar {columna_a} {operacion} {columna_b}, recuerda que es un str'\n",
        "          if type(self.datos[1][columna_a-1]) == float or type(self.datos[1][columna_b-1]) == float:\n",
        "            return 'ERROR: Esta operación no se puede ralizar'\n",
        "          if operacion == '*':\n",
        "            f = []\n",
        "            variable = range(1, self.tamaño_tabla[0]+1)\n",
        "            for i in variable:\n",
        "              f.append(self.datos[i][columna_a-1] * self.datos[i][columna_b-1])\n",
        "            print(f'El resultado de la columna {columna_a} {operacion} la columna  {columna_b}, es {f}')\n",
        "          if type(self.datos[1][columna_a-1]) == str and type(self.datos[1][columna_b-1]) == str:\n",
        "            return f'ERROR: No puedes operar {columna_a} {operacion} {columna_b}, recuerda que es un str'\n",
        "        else:\n",
        "          return 'ERROR: No puedes operar dos columnas en formato str'\n",
        "    else:\n",
        "      return 'ERROR: Columna inexistente'\n",
        "\n",
        "  def ordenar(self, num_columna:int): #listo\n",
        "    '''INGRESE LA COLUMNA QUE DESEA ORDENAR'''\n",
        "    if num_columna > 0 and num_columna <= self.tamaño_tabla[1]:\n",
        "      a = []\n",
        "      b = range(1, self.tamaño_tabla[0]+1)\n",
        "      c = range(0, self.tamaño_tabla[0]+1)\n",
        "      for i in b:\n",
        "        a.append(self.datos[i][num_columna-1])\n",
        "      if type(self.datos[1][num_columna-1]) == str:\n",
        "        a.insert(0, 'A')\n",
        "      if type(self.datos[1][num_columna-1])==int:\n",
        "        a.insert(0, 0)\n",
        "      if type(self.datos[1][num_columna-1]) == float:\n",
        "        a.insert(0, -10000)\n",
        "      if type(self.datos[1][num_columna-1])==bool:\n",
        "        a.insert(0, False)\n",
        "      #print(a) \n",
        "      for j in c:\n",
        "        self.datos[j].insert(0, a[j])\n",
        "      self.datos = sorted(self.datos)\n",
        "      for i in c:\n",
        "        if len(self.datos) == self.tamaño_tabla[0]:\n",
        "          pass\n",
        "        if len(self.datos) >self.tamaño_tabla[0]:\n",
        "          self.datos[i].pop(0)\n",
        "      print(self.datos)\n",
        "    else:\n",
        "      return 'ERROR: NO EXISTE LA COLUMNA' \n",
        "  def __repr__(self):\n",
        "    for fila in self.datos:\n",
        "      for elem in fila:\n",
        "        print(f'{elem:<10}', end='')\n",
        "      print()\n",
        "    return f'tamaño_tabla: {self.tamaño_tabla}'"
      ]
    },
    {
      "cell_type": "code",
      "source": [
        "info_estudiantes = [['NOMBRE', 'EDAD', 'AÑOS DE EDUCACION','CASADO','SALARIO'],\n",
        "              ['JUAN', 23, 4,True,10.5],\n",
        "              ['GERARDO', 20, 150,True,30.8],\n",
        "              ['VALERIA', 19 , 28,True,50.6]]"
      ],
      "metadata": {
        "id": "DP6oSmnFJnOU"
      },
      "execution_count": 5,
      "outputs": []
    },
    {
      "cell_type": "code",
      "source": [
        "objeto = TablaDatos(info_estudiantes)"
      ],
      "metadata": {
        "id": "BY3LsJ69MLuc",
        "colab": {
          "base_uri": "https://localhost:8080/"
        },
        "outputId": "ea84c33f-26a9-4424-923e-5e2dcbe9317a"
      },
      "execution_count": 6,
      "outputs": [
        {
          "output_type": "stream",
          "name": "stdout",
          "text": [
            "[<class 'str'>, <class 'int'>, <class 'int'>, <class 'bool'>, <class 'float'>]\n",
            "[<class 'str'>, <class 'int'>, <class 'int'>, <class 'bool'>, <class 'float'>]\n"
          ]
        }
      ]
    },
    {
      "cell_type": "code",
      "source": [
        "objeto.tamaño_tabla"
      ],
      "metadata": {
        "colab": {
          "base_uri": "https://localhost:8080/"
        },
        "id": "QzsNWHqZ5kMJ",
        "outputId": "56125a54-29f5-46a1-8e38-dfb8cb17c1cf"
      },
      "execution_count": 7,
      "outputs": [
        {
          "output_type": "execute_result",
          "data": {
            "text/plain": [
              "(3, 5)"
            ]
          },
          "metadata": {},
          "execution_count": 7
        }
      ]
    },
    {
      "cell_type": "code",
      "source": [
        "objeto.ordenar(1)"
      ],
      "metadata": {
        "colab": {
          "base_uri": "https://localhost:8080/"
        },
        "id": "pbEKl7NkDJJb",
        "outputId": "a9874d62-ca31-48f8-9f3d-a4e0ed2bd77e"
      },
      "execution_count": 277,
      "outputs": [
        {
          "output_type": "stream",
          "name": "stdout",
          "text": [
            "[['NOMBRE', 'EDAD', 'AÑOS DE EDUCACION', 'CASADO', 'SALARIO'], ['GERARDO', 20, 150, True, 30.8], ['JUAN', 23, 4, True, 10.5], ['VALERIA', 19, 28, True, 50.6]]\n"
          ]
        }
      ]
    },
    {
      "cell_type": "code",
      "source": [
        "objeto.ordenar(2)"
      ],
      "metadata": {
        "colab": {
          "base_uri": "https://localhost:8080/"
        },
        "id": "8IHFISI8EH66",
        "outputId": "9bcf3391-6388-45fe-8e00-22af139ccc28"
      },
      "execution_count": 278,
      "outputs": [
        {
          "output_type": "stream",
          "name": "stdout",
          "text": [
            "[['NOMBRE', 'EDAD', 'AÑOS DE EDUCACION', 'CASADO', 'SALARIO'], ['VALERIA', 19, 28, True, 50.6], ['GERARDO', 20, 150, True, 30.8], ['JUAN', 23, 4, True, 10.5]]\n"
          ]
        }
      ]
    },
    {
      "cell_type": "code",
      "source": [
        "objeto.ordenar(3)"
      ],
      "metadata": {
        "colab": {
          "base_uri": "https://localhost:8080/"
        },
        "id": "3bx4Su5JESlI",
        "outputId": "d5f7c341-3e4a-4485-d17d-8fe9ae186ed7"
      },
      "execution_count": 279,
      "outputs": [
        {
          "output_type": "stream",
          "name": "stdout",
          "text": [
            "[['NOMBRE', 'EDAD', 'AÑOS DE EDUCACION', 'CASADO', 'SALARIO'], ['JUAN', 23, 4, True, 10.5], ['VALERIA', 19, 28, True, 50.6], ['GERARDO', 20, 150, True, 30.8]]\n"
          ]
        }
      ]
    },
    {
      "cell_type": "code",
      "source": [
        "objeto.ordenar(4)"
      ],
      "metadata": {
        "colab": {
          "base_uri": "https://localhost:8080/"
        },
        "id": "Dn0gZXCsEakB",
        "outputId": "393c53b9-9ce1-4af3-c4bb-03fa1a6ec1ab"
      },
      "execution_count": 280,
      "outputs": [
        {
          "output_type": "stream",
          "name": "stdout",
          "text": [
            "[['NOMBRE', 'EDAD', 'AÑOS DE EDUCACION', 'CASADO', 'SALARIO'], ['GERARDO', 20, 150, True, 30.8], ['JUAN', 23, 4, True, 10.5], ['VALERIA', 19, 28, True, 50.6]]\n"
          ]
        }
      ]
    },
    {
      "cell_type": "code",
      "source": [
        "objeto.acceso_columna(7)"
      ],
      "metadata": {
        "id": "u-NthLWTMWoX",
        "colab": {
          "base_uri": "https://localhost:8080/",
          "height": 35
        },
        "outputId": "050f84b5-8fe9-4093-e3e1-75f8c6114a4d"
      },
      "execution_count": 281,
      "outputs": [
        {
          "output_type": "execute_result",
          "data": {
            "text/plain": [
              "'ERROR: no hay suficientes columnas, recuerde que el maximo son 5'"
            ],
            "application/vnd.google.colaboratory.intrinsic+json": {
              "type": "string"
            }
          },
          "metadata": {},
          "execution_count": 281
        }
      ]
    },
    {
      "cell_type": "code",
      "source": [
        "objeto.datos"
      ],
      "metadata": {
        "colab": {
          "base_uri": "https://localhost:8080/"
        },
        "id": "qacdg2BJM-Pi",
        "outputId": "642f4ee4-9038-41e9-96ff-9188d25a83e3"
      },
      "execution_count": 282,
      "outputs": [
        {
          "output_type": "execute_result",
          "data": {
            "text/plain": [
              "[['NOMBRE', 'EDAD', 'AÑOS DE EDUCACION', 'CASADO', 'SALARIO'],\n",
              " ['GERARDO', 20, 150, True, 30.8],\n",
              " ['JUAN', 23, 4, True, 10.5],\n",
              " ['VALERIA', 19, 28, True, 50.6]]"
            ]
          },
          "metadata": {},
          "execution_count": 282
        }
      ]
    },
    {
      "cell_type": "code",
      "source": [
        "objeto.nombre_columna"
      ],
      "metadata": {
        "colab": {
          "base_uri": "https://localhost:8080/"
        },
        "id": "N6QEmHQ0NCrf",
        "outputId": "97ff3d51-12b4-4e99-cf3f-cf872f4aa04b"
      },
      "execution_count": 283,
      "outputs": [
        {
          "output_type": "execute_result",
          "data": {
            "text/plain": [
              "['NOMBRE', 'EDAD', 'AÑOS DE EDUCACION', 'CASADO', 'SALARIO']"
            ]
          },
          "metadata": {},
          "execution_count": 283
        }
      ]
    },
    {
      "cell_type": "code",
      "source": [
        "objeto.acceso_columna('GAS')"
      ],
      "metadata": {
        "colab": {
          "base_uri": "https://localhost:8080/",
          "height": 35
        },
        "id": "x4Z02k2xN_cQ",
        "outputId": "f78bfa28-dc84-4f98-cb8e-ed4944101ff6"
      },
      "execution_count": 284,
      "outputs": [
        {
          "output_type": "execute_result",
          "data": {
            "text/plain": [
              "'ERROR: Debe estar en el formato int'"
            ],
            "application/vnd.google.colaboratory.intrinsic+json": {
              "type": "string"
            }
          },
          "metadata": {},
          "execution_count": 284
        }
      ]
    },
    {
      "cell_type": "code",
      "source": [
        "objeto.acceso_fila(3)"
      ],
      "metadata": {
        "colab": {
          "base_uri": "https://localhost:8080/"
        },
        "id": "nnY9MXt6PTOG",
        "outputId": "04829f11-4182-4ee3-f16c-3e0afd003fde"
      },
      "execution_count": 285,
      "outputs": [
        {
          "output_type": "execute_result",
          "data": {
            "text/plain": [
              "['VALERIA', 19, 28, True, 50.6]"
            ]
          },
          "metadata": {},
          "execution_count": 285
        }
      ]
    },
    {
      "cell_type": "code",
      "source": [
        "objeto.acceso_columna(3)"
      ],
      "metadata": {
        "id": "YhH-yDr6UQ7K",
        "colab": {
          "base_uri": "https://localhost:8080/"
        },
        "outputId": "79c1fc10-8291-43ad-fdac-2d2eea30d182"
      },
      "execution_count": 286,
      "outputs": [
        {
          "output_type": "execute_result",
          "data": {
            "text/plain": [
              "['AÑOS DE EDUCACION', 150, 4, 28]"
            ]
          },
          "metadata": {},
          "execution_count": 286
        }
      ]
    },
    {
      "cell_type": "code",
      "source": [
        "objeto.agregar_columna(['COL', 6,7,7])"
      ],
      "metadata": {
        "id": "ySNE_TNbUVwM"
      },
      "execution_count": 287,
      "outputs": []
    },
    {
      "cell_type": "code",
      "source": [
        "objeto.datos"
      ],
      "metadata": {
        "colab": {
          "base_uri": "https://localhost:8080/"
        },
        "id": "xAteB9hSSnUG",
        "outputId": "0530b71f-7987-4648-ecd8-bb8394ff29b0"
      },
      "execution_count": 288,
      "outputs": [
        {
          "output_type": "execute_result",
          "data": {
            "text/plain": [
              "[['NOMBRE', 'EDAD', 'AÑOS DE EDUCACION', 'CASADO', 'SALARIO', 'COL'],\n",
              " ['GERARDO', 20, 150, True, 30.8, 6],\n",
              " ['JUAN', 23, 4, True, 10.5, 7],\n",
              " ['VALERIA', 19, 28, True, 50.6, 7]]"
            ]
          },
          "metadata": {},
          "execution_count": 288
        }
      ]
    },
    {
      "cell_type": "code",
      "source": [
        "objeto.tamaño_tabla"
      ],
      "metadata": {
        "colab": {
          "base_uri": "https://localhost:8080/"
        },
        "id": "nHKJyvZ1U5Uo",
        "outputId": "43bb6f8c-ebdb-4939-ed22-bb1156a544b9"
      },
      "execution_count": 289,
      "outputs": [
        {
          "output_type": "execute_result",
          "data": {
            "text/plain": [
              "(3, 6)"
            ]
          },
          "metadata": {},
          "execution_count": 289
        }
      ]
    },
    {
      "cell_type": "code",
      "source": [
        "objeto.acceso_columna(5)"
      ],
      "metadata": {
        "id": "xkx6IhQL7bqS",
        "colab": {
          "base_uri": "https://localhost:8080/"
        },
        "outputId": "d2dc81ca-ce79-4cae-c5e6-503139766a56"
      },
      "execution_count": 290,
      "outputs": [
        {
          "output_type": "execute_result",
          "data": {
            "text/plain": [
              "['SALARIO', 30.8, 10.5, 50.6]"
            ]
          },
          "metadata": {},
          "execution_count": 290
        }
      ]
    },
    {
      "cell_type": "code",
      "source": [
        "objeto.datos"
      ],
      "metadata": {
        "colab": {
          "base_uri": "https://localhost:8080/"
        },
        "id": "KmoZ0rmlYJkM",
        "outputId": "96c369c0-29d4-4a52-97f2-347d9355d67d"
      },
      "execution_count": 291,
      "outputs": [
        {
          "output_type": "execute_result",
          "data": {
            "text/plain": [
              "[['NOMBRE', 'EDAD', 'AÑOS DE EDUCACION', 'CASADO', 'SALARIO', 'COL'],\n",
              " ['GERARDO', 20, 150, True, 30.8, 6],\n",
              " ['JUAN', 23, 4, True, 10.5, 7],\n",
              " ['VALERIA', 19, 28, True, 50.6, 7]]"
            ]
          },
          "metadata": {},
          "execution_count": 291
        }
      ]
    },
    {
      "cell_type": "code",
      "source": [
        "objeto.eliminar_columna('d')"
      ],
      "metadata": {
        "id": "nlwXcPRfYVWX",
        "colab": {
          "base_uri": "https://localhost:8080/",
          "height": 35
        },
        "outputId": "a32260e3-5f4c-4bd0-9a13-a5dd780c3ff7"
      },
      "execution_count": 292,
      "outputs": [
        {
          "output_type": "execute_result",
          "data": {
            "text/plain": [
              "'ERROR: El formato es invalido, debe ingresar un int'"
            ],
            "application/vnd.google.colaboratory.intrinsic+json": {
              "type": "string"
            }
          },
          "metadata": {},
          "execution_count": 292
        }
      ]
    },
    {
      "cell_type": "code",
      "source": [
        "objeto.tamaño_tabla"
      ],
      "metadata": {
        "colab": {
          "base_uri": "https://localhost:8080/"
        },
        "id": "1ae1I2x_yBpZ",
        "outputId": "de25d6c4-4707-4605-8fbb-fd1778253a73"
      },
      "execution_count": 293,
      "outputs": [
        {
          "output_type": "execute_result",
          "data": {
            "text/plain": [
              "(3, 6)"
            ]
          },
          "metadata": {},
          "execution_count": 293
        }
      ]
    },
    {
      "cell_type": "code",
      "source": [
        "objeto.datos"
      ],
      "metadata": {
        "colab": {
          "base_uri": "https://localhost:8080/"
        },
        "id": "pm3g3m9dYYEJ",
        "outputId": "a1ad7e24-1541-4c97-ca9e-0fa13d9a1444"
      },
      "execution_count": 294,
      "outputs": [
        {
          "output_type": "execute_result",
          "data": {
            "text/plain": [
              "[['NOMBRE', 'EDAD', 'AÑOS DE EDUCACION', 'CASADO', 'SALARIO', 'COL'],\n",
              " ['GERARDO', 20, 150, True, 30.8, 6],\n",
              " ['JUAN', 23, 4, True, 10.5, 7],\n",
              " ['VALERIA', 19, 28, True, 50.6, 7]]"
            ]
          },
          "metadata": {},
          "execution_count": 294
        }
      ]
    },
    {
      "cell_type": "code",
      "source": [
        "objeto.agregar_fila(['ANA', 55, 47,True,4.4])"
      ],
      "metadata": {
        "id": "genoZPOZYyaX",
        "colab": {
          "base_uri": "https://localhost:8080/",
          "height": 53
        },
        "outputId": "9bebf012-5a29-4410-8320-0955eb0dc4e1"
      },
      "execution_count": 295,
      "outputs": [
        {
          "output_type": "stream",
          "name": "stdout",
          "text": [
            "[<class 'str'>, <class 'int'>, <class 'int'>, <class 'bool'>, <class 'float'>]\n"
          ]
        },
        {
          "output_type": "execute_result",
          "data": {
            "text/plain": [
              "'ERROR: el largo de la fila debe ser de 6'"
            ],
            "application/vnd.google.colaboratory.intrinsic+json": {
              "type": "string"
            }
          },
          "metadata": {},
          "execution_count": 295
        }
      ]
    },
    {
      "cell_type": "code",
      "source": [
        "objeto.operar_escalar(7,'*')"
      ],
      "metadata": {
        "colab": {
          "base_uri": "https://localhost:8080/"
        },
        "id": "h4mIR1rsfSOc",
        "outputId": "7b09db3c-629b-47bb-a532-aaf571e3ea35"
      },
      "execution_count": 296,
      "outputs": [
        {
          "output_type": "stream",
          "name": "stdout",
          "text": [
            "[['GERARDOGERARDOGERARDOGERARDOGERARDOGERARDOGERARDO', 140, 1050, 7, 215.6, 42], ['JUANJUANJUANJUANJUANJUANJUAN', 161, 28, 7, 73.5, 49], ['VALERIAVALERIAVALERIAVALERIAVALERIAVALERIAVALERIA', 133, 196, 7, 354.2, 49]]\n"
          ]
        }
      ]
    },
    {
      "cell_type": "code",
      "source": [
        "objeto.agregar_fila([2])"
      ],
      "metadata": {
        "colab": {
          "base_uri": "https://localhost:8080/"
        },
        "id": "CHch-Ab70k4N",
        "outputId": "8de049ae-3276-435e-bd78-69009833e8aa"
      },
      "execution_count": 297,
      "outputs": [
        {
          "output_type": "stream",
          "name": "stdout",
          "text": [
            "[<class 'int'>]\n",
            "ERROR: La fila no coincide con el tipo de datos solicitados\n"
          ]
        }
      ]
    },
    {
      "cell_type": "code",
      "source": [
        "objeto.datos"
      ],
      "metadata": {
        "colab": {
          "base_uri": "https://localhost:8080/"
        },
        "id": "Dn7DWEQ8ZMKC",
        "outputId": "36a47c5e-bf7e-43be-b4f2-7c43e21e5b3c"
      },
      "execution_count": 298,
      "outputs": [
        {
          "output_type": "execute_result",
          "data": {
            "text/plain": [
              "[['NOMBRE', 'EDAD', 'AÑOS DE EDUCACION', 'CASADO', 'SALARIO', 'COL'],\n",
              " ['GERARDO', 20, 150, True, 30.8, 6],\n",
              " ['JUAN', 23, 4, True, 10.5, 7],\n",
              " ['VALERIA', 19, 28, True, 50.6, 7]]"
            ]
          },
          "metadata": {},
          "execution_count": 298
        }
      ]
    },
    {
      "cell_type": "code",
      "source": [
        "objeto.acceso_fila(2)"
      ],
      "metadata": {
        "colab": {
          "base_uri": "https://localhost:8080/"
        },
        "id": "k0A7O-pOKj2z",
        "outputId": "b01f654a-02b4-45ab-c985-2535e8911aff"
      },
      "execution_count": 299,
      "outputs": [
        {
          "output_type": "execute_result",
          "data": {
            "text/plain": [
              "['JUAN', 23, 4, True, 10.5, 7]"
            ]
          },
          "metadata": {},
          "execution_count": 299
        }
      ]
    },
    {
      "cell_type": "code",
      "source": [
        "objeto.eliminar_fila(1)"
      ],
      "metadata": {
        "id": "N_lSyzdxZNst"
      },
      "execution_count": 300,
      "outputs": []
    },
    {
      "cell_type": "code",
      "source": [
        "objeto.datos"
      ],
      "metadata": {
        "colab": {
          "base_uri": "https://localhost:8080/"
        },
        "id": "i7wvXasBZa-c",
        "outputId": "5b7e8486-dadd-42de-93e6-425e8febd0dd"
      },
      "execution_count": 301,
      "outputs": [
        {
          "output_type": "execute_result",
          "data": {
            "text/plain": [
              "[['NOMBRE', 'EDAD', 'AÑOS DE EDUCACION', 'CASADO', 'SALARIO', 'COL'],\n",
              " ['JUAN', 23, 4, True, 10.5, 7],\n",
              " ['VALERIA', 19, 28, True, 50.6, 7]]"
            ]
          },
          "metadata": {},
          "execution_count": 301
        }
      ]
    },
    {
      "cell_type": "code",
      "source": [
        "objeto.operar_escalar(5,'/')"
      ],
      "metadata": {
        "id": "HrwRKKUGb1JN",
        "colab": {
          "base_uri": "https://localhost:8080/"
        },
        "outputId": "4b83921e-174d-4f81-bdf8-4ab5ff15721b"
      },
      "execution_count": 302,
      "outputs": [
        {
          "output_type": "stream",
          "name": "stdout",
          "text": [
            "[['JUAN', 4.6, 0.8, 0.2, 2.1, 1.4], ['VALERIA', 3.8, 5.6, 0.2, 10.120000000000001, 1.4]]\n"
          ]
        }
      ]
    },
    {
      "cell_type": "code",
      "source": [
        "objeto.tamaño_tabla"
      ],
      "metadata": {
        "colab": {
          "base_uri": "https://localhost:8080/"
        },
        "id": "Y6k-D2Jo-SDX",
        "outputId": "e2d9dd26-b480-4101-d75c-8e61ddecffdf"
      },
      "execution_count": 303,
      "outputs": [
        {
          "output_type": "execute_result",
          "data": {
            "text/plain": [
              "(2, 6)"
            ]
          },
          "metadata": {},
          "execution_count": 303
        }
      ]
    },
    {
      "cell_type": "code",
      "source": [
        "objeto.datos"
      ],
      "metadata": {
        "id": "sgdOPq-E-T1k",
        "outputId": "fc824bde-0fb8-418c-b28e-b6e2c411e2e9",
        "colab": {
          "base_uri": "https://localhost:8080/"
        }
      },
      "execution_count": 304,
      "outputs": [
        {
          "output_type": "execute_result",
          "data": {
            "text/plain": [
              "[['NOMBRE', 'EDAD', 'AÑOS DE EDUCACION', 'CASADO', 'SALARIO', 'COL'],\n",
              " ['JUAN', 23, 4, True, 10.5, 7],\n",
              " ['VALERIA', 19, 28, True, 50.6, 7]]"
            ]
          },
          "metadata": {},
          "execution_count": 304
        }
      ]
    },
    {
      "cell_type": "code",
      "source": [
        "objeto.operar_columnas(2,5,'*')"
      ],
      "metadata": {
        "colab": {
          "base_uri": "https://localhost:8080/"
        },
        "id": "w0zIY9T67wS7",
        "outputId": "2f3b8eff-cbe2-40e4-aacd-b83579be7d5e"
      },
      "execution_count": 305,
      "outputs": [
        {
          "output_type": "stream",
          "name": "stdout",
          "text": [
            "El resultado de la columna 2 * la columna  5, es [241.5, 961.4]\n"
          ]
        }
      ]
    },
    {
      "cell_type": "code",
      "source": [
        "objeto.operar_columnas(1,4,'*')"
      ],
      "metadata": {
        "id": "PexYL5287_rr",
        "colab": {
          "base_uri": "https://localhost:8080/"
        },
        "outputId": "ccab1dc0-3992-4c0e-89b7-8663f1f8e233"
      },
      "execution_count": 306,
      "outputs": [
        {
          "output_type": "stream",
          "name": "stdout",
          "text": [
            "El resultado de la columna 1 * la columna  4, es ['JUAN', 'VALERIA']\n"
          ]
        }
      ]
    },
    {
      "cell_type": "code",
      "source": [
        "objeto.operar_columnas(1,5,'+')"
      ],
      "metadata": {
        "id": "zHEYqxiQ7_pS",
        "colab": {
          "base_uri": "https://localhost:8080/",
          "height": 35
        },
        "outputId": "81d2bc0e-3b12-477b-828a-65bb81ee5c88"
      },
      "execution_count": 307,
      "outputs": [
        {
          "output_type": "execute_result",
          "data": {
            "text/plain": [
              "'ERROR: No puedes operar 1 + 5, recuerda que es un str'"
            ],
            "application/vnd.google.colaboratory.intrinsic+json": {
              "type": "string"
            }
          },
          "metadata": {},
          "execution_count": 307
        }
      ]
    },
    {
      "cell_type": "code",
      "source": [
        "objeto.operar_columnas(3,2,'/')"
      ],
      "metadata": {
        "id": "3hFcVvb57_mq",
        "colab": {
          "base_uri": "https://localhost:8080/"
        },
        "outputId": "af27c758-3787-499e-fb51-3188d57ef48a"
      },
      "execution_count": 308,
      "outputs": [
        {
          "output_type": "stream",
          "name": "stdout",
          "text": [
            "El resultado de la columna 3 / la columna  2, es [0.17391304347826086, 1.4736842105263157]\n"
          ]
        }
      ]
    },
    {
      "cell_type": "code",
      "source": [
        "objeto.operar_columnas(1,4,'*')"
      ],
      "metadata": {
        "id": "1h2s4sRr7_kS",
        "colab": {
          "base_uri": "https://localhost:8080/"
        },
        "outputId": "2a763e33-cb3f-49ce-ed97-9c1075d137af"
      },
      "execution_count": 309,
      "outputs": [
        {
          "output_type": "stream",
          "name": "stdout",
          "text": [
            "El resultado de la columna 1 * la columna  4, es ['JUAN', 'VALERIA']\n"
          ]
        }
      ]
    },
    {
      "cell_type": "code",
      "source": [
        "objeto"
      ],
      "metadata": {
        "id": "jmPP7Y377_cy",
        "colab": {
          "base_uri": "https://localhost:8080/"
        },
        "outputId": "5f1da7ed-fe42-4e2e-dbd6-4dfd2b82c915"
      },
      "execution_count": 8,
      "outputs": [
        {
          "output_type": "stream",
          "name": "stdout",
          "text": [
            "NOMBRE    EDAD      AÑOS DE EDUCACIONCASADO    SALARIO   \n",
            "JUAN      23        4         1         10.5      \n",
            "GERARDO   20        150       1         30.8      \n",
            "VALERIA   19        28        1         50.6      \n"
          ]
        },
        {
          "output_type": "execute_result",
          "data": {
            "text/plain": [
              "tamaño_tabla: (3, 5)"
            ]
          },
          "metadata": {},
          "execution_count": 8
        }
      ]
    }
  ]
}