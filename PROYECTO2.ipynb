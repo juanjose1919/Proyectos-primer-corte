{
  "nbformat": 4,
  "nbformat_minor": 0,
  "metadata": {
    "colab": {
      "provenance": [],
      "authorship_tag": "ABX9TyMZd7PJwl9gNO3Ra/IYPdLS",
      "include_colab_link": true
    },
    "kernelspec": {
      "name": "python3",
      "display_name": "Python 3"
    },
    "language_info": {
      "name": "python"
    }
  },
  "cells": [
    {
      "cell_type": "markdown",
      "metadata": {
        "id": "view-in-github",
        "colab_type": "text"
      },
      "source": [
        "<a href=\"https://colab.research.google.com/github/juanjose1919/Proyectos-primer-corte/blob/main/PROYECTO2.ipynb\" target=\"_parent\"><img src=\"https://colab.research.google.com/assets/colab-badge.svg\" alt=\"Open In Colab\"/></a>"
      ]
    },
    {
      "cell_type": "code",
      "execution_count": 32,
      "metadata": {
        "colab": {
          "base_uri": "https://localhost:8080/"
        },
        "id": "BkymfAE0ul-I",
        "outputId": "9417aa46-bb92-4631-e204-511fcc26615f"
      },
      "outputs": [
        {
          "output_type": "stream",
          "name": "stdout",
          "text": [
            "Looking in indexes: https://pypi.org/simple, https://us-python.pkg.dev/colab-wheels/public/simple/\n",
            "Collecting paquete-proyecto-2==0.0.4\n",
            "  Downloading paquete_proyecto_2-0.0.4-py3-none-any.whl (3.8 kB)\n",
            "Installing collected packages: paquete-proyecto-2\n",
            "  Attempting uninstall: paquete-proyecto-2\n",
            "    Found existing installation: paquete-proyecto-2 0.0.3\n",
            "    Uninstalling paquete-proyecto-2-0.0.3:\n",
            "      Successfully uninstalled paquete-proyecto-2-0.0.3\n",
            "Successfully installed paquete-proyecto-2-0.0.4\n"
          ]
        }
      ],
      "source": [
        "pip install paquete-proyecto-2==0.0.4"
      ]
    },
    {
      "cell_type": "code",
      "source": [
        "from paquete_proyecto_2.descriptiva import Paquete\n",
        "import scipy.stats as st\n",
        "import statistics as sta"
      ],
      "metadata": {
        "id": "5SlNn3JGuwIz"
      },
      "execution_count": 33,
      "outputs": []
    },
    {
      "cell_type": "code",
      "source": [
        "lista = [12,45,67,4,5]\n"
      ],
      "metadata": {
        "id": "phJk6ZfBu9qB"
      },
      "execution_count": 34,
      "outputs": []
    },
    {
      "cell_type": "code",
      "source": [
        "objeto = Paquete(lista)"
      ],
      "metadata": {
        "id": "f5kJ1GsgvCev"
      },
      "execution_count": 35,
      "outputs": []
    },
    {
      "cell_type": "code",
      "source": [
        "objeto.media"
      ],
      "metadata": {
        "colab": {
          "base_uri": "https://localhost:8080/"
        },
        "id": "DfmRUjJlvIGf",
        "outputId": "0650bd02-f8d0-44f7-dbbf-7b6b05779029"
      },
      "execution_count": 36,
      "outputs": [
        {
          "output_type": "execute_result",
          "data": {
            "text/plain": [
              "26.6"
            ]
          },
          "metadata": {},
          "execution_count": 36
        }
      ]
    },
    {
      "cell_type": "code",
      "source": [
        "sta.mean(lista)"
      ],
      "metadata": {
        "colab": {
          "base_uri": "https://localhost:8080/"
        },
        "id": "LTJtYmqsvWoJ",
        "outputId": "50da9c05-f6ee-4d7a-c999-0705ddd21e94"
      },
      "execution_count": 37,
      "outputs": [
        {
          "output_type": "execute_result",
          "data": {
            "text/plain": [
              "26.6"
            ]
          },
          "metadata": {},
          "execution_count": 37
        }
      ]
    },
    {
      "cell_type": "code",
      "source": [
        "objeto.mediana()"
      ],
      "metadata": {
        "colab": {
          "base_uri": "https://localhost:8080/"
        },
        "id": "-SAkKTcLvZDI",
        "outputId": "83e9f220-091b-447e-cc63-b2d52d4b1969"
      },
      "execution_count": 38,
      "outputs": [
        {
          "output_type": "stream",
          "name": "stdout",
          "text": [
            "12\n"
          ]
        }
      ]
    },
    {
      "cell_type": "code",
      "source": [
        "sta.median(lista)"
      ],
      "metadata": {
        "colab": {
          "base_uri": "https://localhost:8080/"
        },
        "id": "_wAMep30veOk",
        "outputId": "a0774bd1-8739-4ff7-bd27-8c5651faef1e"
      },
      "execution_count": 39,
      "outputs": [
        {
          "output_type": "execute_result",
          "data": {
            "text/plain": [
              "12"
            ]
          },
          "metadata": {},
          "execution_count": 39
        }
      ]
    },
    {
      "cell_type": "code",
      "source": [
        "objeto.varianza()"
      ],
      "metadata": {
        "colab": {
          "base_uri": "https://localhost:8080/"
        },
        "id": "Awo31ucXw72P",
        "outputId": "84212791-2fcc-4342-d2af-36e9c7cbe3fd"
      },
      "execution_count": 40,
      "outputs": [
        {
          "output_type": "stream",
          "name": "stdout",
          "text": [
            "790.3\n"
          ]
        }
      ]
    },
    {
      "cell_type": "code",
      "source": [
        "sta.variance(lista)"
      ],
      "metadata": {
        "colab": {
          "base_uri": "https://localhost:8080/"
        },
        "id": "qctm04Ayw_44",
        "outputId": "d2ffdb35-57e1-4ebf-c0df-f4fff03ec3f8"
      },
      "execution_count": 41,
      "outputs": [
        {
          "output_type": "execute_result",
          "data": {
            "text/plain": [
              "790.3"
            ]
          },
          "metadata": {},
          "execution_count": 41
        }
      ]
    },
    {
      "cell_type": "code",
      "source": [
        "objeto.desviacion()"
      ],
      "metadata": {
        "colab": {
          "base_uri": "https://localhost:8080/"
        },
        "id": "G2nQB_y5xCVh",
        "outputId": "7581b336-c557-4848-8a4e-dec1a262768b"
      },
      "execution_count": 42,
      "outputs": [
        {
          "output_type": "stream",
          "name": "stdout",
          "text": [
            "25.144383070578606\n"
          ]
        }
      ]
    },
    {
      "cell_type": "code",
      "source": [
        "sta.pstdev(lista)"
      ],
      "metadata": {
        "colab": {
          "base_uri": "https://localhost:8080/"
        },
        "id": "dzAu_s9oxMq0",
        "outputId": "94fe2b92-cc76-4a71-d1f8-b01a108e2b7b"
      },
      "execution_count": 43,
      "outputs": [
        {
          "output_type": "execute_result",
          "data": {
            "text/plain": [
              "25.144383070578606"
            ]
          },
          "metadata": {},
          "execution_count": 43
        }
      ]
    },
    {
      "cell_type": "code",
      "source": [
        "objeto.coeficiente_var()"
      ],
      "metadata": {
        "colab": {
          "base_uri": "https://localhost:8080/"
        },
        "id": "lacrDSV_xgew",
        "outputId": "c07c93c4-7bd3-4f6e-9b97-8f689932c2a0"
      },
      "execution_count": 44,
      "outputs": [
        {
          "output_type": "stream",
          "name": "stdout",
          "text": [
            "0.9452775590443084\n"
          ]
        }
      ]
    },
    {
      "cell_type": "code",
      "source": [
        "objeto.curtosis()"
      ],
      "metadata": {
        "colab": {
          "base_uri": "https://localhost:8080/"
        },
        "id": "8KRoj3D_xzpm",
        "outputId": "62714886-00c5-461a-c0fe-5527c588924a"
      },
      "execution_count": 45,
      "outputs": [
        {
          "output_type": "stream",
          "name": "stdout",
          "text": [
            "-1.3475937898736723\n"
          ]
        }
      ]
    },
    {
      "cell_type": "code",
      "source": [
        "st.kurtosis(lista)"
      ],
      "metadata": {
        "colab": {
          "base_uri": "https://localhost:8080/"
        },
        "id": "NfigVsL0x3LQ",
        "outputId": "a3a5ff3c-213a-49d5-a88f-1a630226a9ec"
      },
      "execution_count": 46,
      "outputs": [
        {
          "output_type": "execute_result",
          "data": {
            "text/plain": [
              "-1.3475937898736723"
            ]
          },
          "metadata": {},
          "execution_count": 46
        }
      ]
    },
    {
      "cell_type": "code",
      "source": [
        "objeto.simetria()"
      ],
      "metadata": {
        "colab": {
          "base_uri": "https://localhost:8080/"
        },
        "id": "FkV_KA31x83W",
        "outputId": "3127265f-a4ac-45f7-ae3a-743914db7b0f"
      },
      "execution_count": 47,
      "outputs": [
        {
          "output_type": "stream",
          "name": "stdout",
          "text": [
            "0.5967781383850862\n"
          ]
        }
      ]
    },
    {
      "cell_type": "code",
      "source": [
        "st.skew(lista)"
      ],
      "metadata": {
        "colab": {
          "base_uri": "https://localhost:8080/"
        },
        "id": "DZ2IrrnbyAbI",
        "outputId": "1794b7f7-36c8-4da0-a520-ed6b07fe504e"
      },
      "execution_count": 48,
      "outputs": [
        {
          "output_type": "execute_result",
          "data": {
            "text/plain": [
              "0.5967781383850861"
            ]
          },
          "metadata": {},
          "execution_count": 48
        }
      ]
    },
    {
      "cell_type": "code",
      "source": [],
      "metadata": {
        "id": "9l1dSdW6yI_D"
      },
      "execution_count": null,
      "outputs": []
    }
  ]
}